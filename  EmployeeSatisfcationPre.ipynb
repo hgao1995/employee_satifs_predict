{
 "cells": [
  {
   "cell_type": "code",
   "execution_count": 176,
   "metadata": {},
   "outputs": [],
   "source": [
    "import pandas as pd\n",
    "import numpy as np\n",
    "from sklearn.model_selection import train_test_split"
   ]
  },
  {
   "cell_type": "code",
   "execution_count": 177,
   "metadata": {},
   "outputs": [],
   "source": [
    "df = pd.read_csv('训练集.csv')"
   ]
  },
  {
   "cell_type": "code",
   "execution_count": 178,
   "metadata": {
    "scrolled": true
   },
   "outputs": [
    {
     "data": {
      "text/html": [
       "<div>\n",
       "<style scoped>\n",
       "    .dataframe tbody tr th:only-of-type {\n",
       "        vertical-align: middle;\n",
       "    }\n",
       "\n",
       "    .dataframe tbody tr th {\n",
       "        vertical-align: top;\n",
       "    }\n",
       "\n",
       "    .dataframe thead th {\n",
       "        text-align: right;\n",
       "    }\n",
       "</style>\n",
       "<table border=\"1\" class=\"dataframe\">\n",
       "  <thead>\n",
       "    <tr style=\"text-align: right;\">\n",
       "      <th></th>\n",
       "      <th>id</th>\n",
       "      <th>last_evaluation</th>\n",
       "      <th>number_project</th>\n",
       "      <th>average_monthly_hours</th>\n",
       "      <th>time_spend_company</th>\n",
       "      <th>Work_accident</th>\n",
       "      <th>package</th>\n",
       "      <th>promotion_last_5years</th>\n",
       "      <th>division</th>\n",
       "      <th>salary</th>\n",
       "      <th>satisfaction_level</th>\n",
       "    </tr>\n",
       "  </thead>\n",
       "  <tbody>\n",
       "    <tr>\n",
       "      <th>0</th>\n",
       "      <td>13697</td>\n",
       "      <td>0.99</td>\n",
       "      <td>3</td>\n",
       "      <td>161.39</td>\n",
       "      <td>2</td>\n",
       "      <td>0</td>\n",
       "      <td>a</td>\n",
       "      <td>0</td>\n",
       "      <td>accounting</td>\n",
       "      <td>medium</td>\n",
       "      <td>0.681</td>\n",
       "    </tr>\n",
       "    <tr>\n",
       "      <th>1</th>\n",
       "      <td>1142</td>\n",
       "      <td>1.00</td>\n",
       "      <td>5</td>\n",
       "      <td>226.22</td>\n",
       "      <td>6</td>\n",
       "      <td>0</td>\n",
       "      <td>b</td>\n",
       "      <td>0</td>\n",
       "      <td>marketing</td>\n",
       "      <td>low</td>\n",
       "      <td>0.876</td>\n",
       "    </tr>\n",
       "    <tr>\n",
       "      <th>2</th>\n",
       "      <td>7954</td>\n",
       "      <td>0.91</td>\n",
       "      <td>5</td>\n",
       "      <td>199.45</td>\n",
       "      <td>2</td>\n",
       "      <td>0</td>\n",
       "      <td>e</td>\n",
       "      <td>0</td>\n",
       "      <td>sales</td>\n",
       "      <td>medium</td>\n",
       "      <td>0.955</td>\n",
       "    </tr>\n",
       "    <tr>\n",
       "      <th>3</th>\n",
       "      <td>2225</td>\n",
       "      <td>0.51</td>\n",
       "      <td>3</td>\n",
       "      <td>235.14</td>\n",
       "      <td>3</td>\n",
       "      <td>0</td>\n",
       "      <td>c</td>\n",
       "      <td>0</td>\n",
       "      <td>sales</td>\n",
       "      <td>low</td>\n",
       "      <td>0.817</td>\n",
       "    </tr>\n",
       "    <tr>\n",
       "      <th>4</th>\n",
       "      <td>9753</td>\n",
       "      <td>0.89</td>\n",
       "      <td>3</td>\n",
       "      <td>219.91</td>\n",
       "      <td>2</td>\n",
       "      <td>0</td>\n",
       "      <td>a</td>\n",
       "      <td>0</td>\n",
       "      <td>technical</td>\n",
       "      <td>low</td>\n",
       "      <td>0.920</td>\n",
       "    </tr>\n",
       "    <tr>\n",
       "      <th>...</th>\n",
       "      <td>...</td>\n",
       "      <td>...</td>\n",
       "      <td>...</td>\n",
       "      <td>...</td>\n",
       "      <td>...</td>\n",
       "      <td>...</td>\n",
       "      <td>...</td>\n",
       "      <td>...</td>\n",
       "      <td>...</td>\n",
       "      <td>...</td>\n",
       "      <td>...</td>\n",
       "    </tr>\n",
       "    <tr>\n",
       "      <th>11994</th>\n",
       "      <td>11971</td>\n",
       "      <td>0.89</td>\n",
       "      <td>4</td>\n",
       "      <td>150.45</td>\n",
       "      <td>3</td>\n",
       "      <td>0</td>\n",
       "      <td>e</td>\n",
       "      <td>0</td>\n",
       "      <td>accounting</td>\n",
       "      <td>high</td>\n",
       "      <td>0.849</td>\n",
       "    </tr>\n",
       "    <tr>\n",
       "      <th>11995</th>\n",
       "      <td>14966</td>\n",
       "      <td>0.81</td>\n",
       "      <td>5</td>\n",
       "      <td>221.28</td>\n",
       "      <td>5</td>\n",
       "      <td>0</td>\n",
       "      <td>b</td>\n",
       "      <td>0</td>\n",
       "      <td>sales</td>\n",
       "      <td>low</td>\n",
       "      <td>0.836</td>\n",
       "    </tr>\n",
       "    <tr>\n",
       "      <th>11996</th>\n",
       "      <td>7491</td>\n",
       "      <td>0.60</td>\n",
       "      <td>4</td>\n",
       "      <td>136.36</td>\n",
       "      <td>4</td>\n",
       "      <td>1</td>\n",
       "      <td>c</td>\n",
       "      <td>0</td>\n",
       "      <td>sales</td>\n",
       "      <td>medium</td>\n",
       "      <td>0.915</td>\n",
       "    </tr>\n",
       "    <tr>\n",
       "      <th>11997</th>\n",
       "      <td>12680</td>\n",
       "      <td>0.84</td>\n",
       "      <td>6</td>\n",
       "      <td>268.54</td>\n",
       "      <td>4</td>\n",
       "      <td>0</td>\n",
       "      <td>b</td>\n",
       "      <td>0</td>\n",
       "      <td>IT</td>\n",
       "      <td>low</td>\n",
       "      <td>0.099</td>\n",
       "    </tr>\n",
       "    <tr>\n",
       "      <th>11998</th>\n",
       "      <td>9056</td>\n",
       "      <td>0.84</td>\n",
       "      <td>2</td>\n",
       "      <td>191.60</td>\n",
       "      <td>3</td>\n",
       "      <td>0</td>\n",
       "      <td>c</td>\n",
       "      <td>0</td>\n",
       "      <td>support</td>\n",
       "      <td>low</td>\n",
       "      <td>0.738</td>\n",
       "    </tr>\n",
       "  </tbody>\n",
       "</table>\n",
       "<p>11999 rows × 11 columns</p>\n",
       "</div>"
      ],
      "text/plain": [
       "          id  last_evaluation  number_project  average_monthly_hours  \\\n",
       "0      13697             0.99               3                 161.39   \n",
       "1       1142             1.00               5                 226.22   \n",
       "2       7954             0.91               5                 199.45   \n",
       "3       2225             0.51               3                 235.14   \n",
       "4       9753             0.89               3                 219.91   \n",
       "...      ...              ...             ...                    ...   \n",
       "11994  11971             0.89               4                 150.45   \n",
       "11995  14966             0.81               5                 221.28   \n",
       "11996   7491             0.60               4                 136.36   \n",
       "11997  12680             0.84               6                 268.54   \n",
       "11998   9056             0.84               2                 191.60   \n",
       "\n",
       "       time_spend_company  Work_accident package  promotion_last_5years  \\\n",
       "0                       2              0       a                      0   \n",
       "1                       6              0       b                      0   \n",
       "2                       2              0       e                      0   \n",
       "3                       3              0       c                      0   \n",
       "4                       2              0       a                      0   \n",
       "...                   ...            ...     ...                    ...   \n",
       "11994                   3              0       e                      0   \n",
       "11995                   5              0       b                      0   \n",
       "11996                   4              1       c                      0   \n",
       "11997                   4              0       b                      0   \n",
       "11998                   3              0       c                      0   \n",
       "\n",
       "         division  salary  satisfaction_level  \n",
       "0      accounting  medium               0.681  \n",
       "1       marketing     low               0.876  \n",
       "2           sales  medium               0.955  \n",
       "3           sales     low               0.817  \n",
       "4       technical     low               0.920  \n",
       "...           ...     ...                 ...  \n",
       "11994  accounting    high               0.849  \n",
       "11995       sales     low               0.836  \n",
       "11996       sales  medium               0.915  \n",
       "11997          IT     low               0.099  \n",
       "11998     support     low               0.738  \n",
       "\n",
       "[11999 rows x 11 columns]"
      ]
     },
     "execution_count": 178,
     "metadata": {},
     "output_type": "execute_result"
    }
   ],
   "source": [
    "df"
   ]
  },
  {
   "cell_type": "code",
   "execution_count": 179,
   "metadata": {},
   "outputs": [
    {
     "data": {
      "text/html": [
       "<div>\n",
       "<style scoped>\n",
       "    .dataframe tbody tr th:only-of-type {\n",
       "        vertical-align: middle;\n",
       "    }\n",
       "\n",
       "    .dataframe tbody tr th {\n",
       "        vertical-align: top;\n",
       "    }\n",
       "\n",
       "    .dataframe thead th {\n",
       "        text-align: right;\n",
       "    }\n",
       "</style>\n",
       "<table border=\"1\" class=\"dataframe\">\n",
       "  <thead>\n",
       "    <tr style=\"text-align: right;\">\n",
       "      <th></th>\n",
       "      <th>id</th>\n",
       "      <th>last_evaluation</th>\n",
       "      <th>number_project</th>\n",
       "      <th>average_monthly_hours</th>\n",
       "      <th>time_spend_company</th>\n",
       "      <th>Work_accident</th>\n",
       "      <th>promotion_last_5years</th>\n",
       "      <th>satisfaction_level</th>\n",
       "    </tr>\n",
       "  </thead>\n",
       "  <tbody>\n",
       "    <tr>\n",
       "      <th>count</th>\n",
       "      <td>11999.000000</td>\n",
       "      <td>11999.000000</td>\n",
       "      <td>11999.000000</td>\n",
       "      <td>11999.000000</td>\n",
       "      <td>11999.000000</td>\n",
       "      <td>11999.000000</td>\n",
       "      <td>11999.000000</td>\n",
       "      <td>11999.000000</td>\n",
       "    </tr>\n",
       "    <tr>\n",
       "      <th>mean</th>\n",
       "      <td>7507.265855</td>\n",
       "      <td>0.715750</td>\n",
       "      <td>3.795816</td>\n",
       "      <td>202.201511</td>\n",
       "      <td>3.500875</td>\n",
       "      <td>0.145179</td>\n",
       "      <td>0.020585</td>\n",
       "      <td>0.613853</td>\n",
       "    </tr>\n",
       "    <tr>\n",
       "      <th>std</th>\n",
       "      <td>4328.395859</td>\n",
       "      <td>0.170733</td>\n",
       "      <td>1.229931</td>\n",
       "      <td>49.887899</td>\n",
       "      <td>1.464127</td>\n",
       "      <td>0.352296</td>\n",
       "      <td>0.141996</td>\n",
       "      <td>0.249038</td>\n",
       "    </tr>\n",
       "    <tr>\n",
       "      <th>min</th>\n",
       "      <td>0.000000</td>\n",
       "      <td>0.350000</td>\n",
       "      <td>2.000000</td>\n",
       "      <td>95.100000</td>\n",
       "      <td>2.000000</td>\n",
       "      <td>0.000000</td>\n",
       "      <td>0.000000</td>\n",
       "      <td>0.076000</td>\n",
       "    </tr>\n",
       "    <tr>\n",
       "      <th>25%</th>\n",
       "      <td>3750.500000</td>\n",
       "      <td>0.560000</td>\n",
       "      <td>3.000000</td>\n",
       "      <td>157.135000</td>\n",
       "      <td>3.000000</td>\n",
       "      <td>0.000000</td>\n",
       "      <td>0.000000</td>\n",
       "      <td>0.439000</td>\n",
       "    </tr>\n",
       "    <tr>\n",
       "      <th>50%</th>\n",
       "      <td>7532.000000</td>\n",
       "      <td>0.720000</td>\n",
       "      <td>4.000000</td>\n",
       "      <td>201.020000</td>\n",
       "      <td>3.000000</td>\n",
       "      <td>0.000000</td>\n",
       "      <td>0.000000</td>\n",
       "      <td>0.646000</td>\n",
       "    </tr>\n",
       "    <tr>\n",
       "      <th>75%</th>\n",
       "      <td>11248.500000</td>\n",
       "      <td>0.870000</td>\n",
       "      <td>5.000000</td>\n",
       "      <td>246.020000</td>\n",
       "      <td>4.000000</td>\n",
       "      <td>0.000000</td>\n",
       "      <td>0.000000</td>\n",
       "      <td>0.817000</td>\n",
       "    </tr>\n",
       "    <tr>\n",
       "      <th>max</th>\n",
       "      <td>14998.000000</td>\n",
       "      <td>1.000000</td>\n",
       "      <td>7.000000</td>\n",
       "      <td>313.110000</td>\n",
       "      <td>10.000000</td>\n",
       "      <td>1.000000</td>\n",
       "      <td>1.000000</td>\n",
       "      <td>1.000000</td>\n",
       "    </tr>\n",
       "  </tbody>\n",
       "</table>\n",
       "</div>"
      ],
      "text/plain": [
       "                 id  last_evaluation  number_project  average_monthly_hours  \\\n",
       "count  11999.000000     11999.000000    11999.000000           11999.000000   \n",
       "mean    7507.265855         0.715750        3.795816             202.201511   \n",
       "std     4328.395859         0.170733        1.229931              49.887899   \n",
       "min        0.000000         0.350000        2.000000              95.100000   \n",
       "25%     3750.500000         0.560000        3.000000             157.135000   \n",
       "50%     7532.000000         0.720000        4.000000             201.020000   \n",
       "75%    11248.500000         0.870000        5.000000             246.020000   \n",
       "max    14998.000000         1.000000        7.000000             313.110000   \n",
       "\n",
       "       time_spend_company  Work_accident  promotion_last_5years  \\\n",
       "count        11999.000000   11999.000000           11999.000000   \n",
       "mean             3.500875       0.145179               0.020585   \n",
       "std              1.464127       0.352296               0.141996   \n",
       "min              2.000000       0.000000               0.000000   \n",
       "25%              3.000000       0.000000               0.000000   \n",
       "50%              3.000000       0.000000               0.000000   \n",
       "75%              4.000000       0.000000               0.000000   \n",
       "max             10.000000       1.000000               1.000000   \n",
       "\n",
       "       satisfaction_level  \n",
       "count        11999.000000  \n",
       "mean             0.613853  \n",
       "std              0.249038  \n",
       "min              0.076000  \n",
       "25%              0.439000  \n",
       "50%              0.646000  \n",
       "75%              0.817000  \n",
       "max              1.000000  "
      ]
     },
     "execution_count": 179,
     "metadata": {},
     "output_type": "execute_result"
    }
   ],
   "source": [
    "df.describe()"
   ]
  },
  {
   "cell_type": "code",
   "execution_count": 180,
   "metadata": {},
   "outputs": [],
   "source": [
    "for col in df.columns:\n",
    "    if sum((df[col]).isnull())!= 0:\n",
    "        print(col)"
   ]
  },
  {
   "cell_type": "code",
   "execution_count": 181,
   "metadata": {},
   "outputs": [],
   "source": [
    "X_train = df.drop(columns=['id','satisfaction_level'])"
   ]
  },
  {
   "cell_type": "code",
   "execution_count": 182,
   "metadata": {},
   "outputs": [],
   "source": [
    "y_train = df['satisfaction_level']"
   ]
  },
  {
   "cell_type": "code",
   "execution_count": 183,
   "metadata": {},
   "outputs": [],
   "source": [
    "#X_train, X_test, y_train, y_test = train_test_split(X, y, test_size=0.2)"
   ]
  },
  {
   "cell_type": "code",
   "execution_count": 184,
   "metadata": {},
   "outputs": [],
   "source": [
    "X_test = pd.read_csv('测试集.csv')"
   ]
  },
  {
   "cell_type": "code",
   "execution_count": 185,
   "metadata": {},
   "outputs": [],
   "source": [
    "ind = X_test['id']"
   ]
  },
  {
   "cell_type": "code",
   "execution_count": 186,
   "metadata": {},
   "outputs": [],
   "source": [
    "X_test = X_test.drop(columns=['id'])"
   ]
  },
  {
   "cell_type": "code",
   "execution_count": 187,
   "metadata": {},
   "outputs": [],
   "source": [
    "from sklearn.pipeline import Pipeline\n",
    "from feature_engine import categorical_encoders as ce\n",
    "from sklearn.preprocessing import StandardScaler"
   ]
  },
  {
   "cell_type": "code",
   "execution_count": 188,
   "metadata": {},
   "outputs": [],
   "source": [
    "prepipe = Pipeline([\n",
    "                    ('onehot', ce.OneHotCategoricalEncoder(variables=['package','division','salary'],drop_last=True)),\n",
    "                    ('scale', StandardScaler())\n",
    "])"
   ]
  },
  {
   "cell_type": "code",
   "execution_count": 189,
   "metadata": {},
   "outputs": [
    {
     "data": {
      "text/plain": [
       "Pipeline(steps=[('onehot',\n",
       "                 OneHotCategoricalEncoder(drop_last=True,\n",
       "                                          variables=['package', 'division',\n",
       "                                                     'salary'])),\n",
       "                ('scale', StandardScaler())])"
      ]
     },
     "execution_count": 189,
     "metadata": {},
     "output_type": "execute_result"
    }
   ],
   "source": [
    "prepipe.fit(X_train,y_train)"
   ]
  },
  {
   "cell_type": "code",
   "execution_count": 190,
   "metadata": {},
   "outputs": [],
   "source": [
    "X_train = prepipe.transform(X_train)"
   ]
  },
  {
   "cell_type": "code",
   "execution_count": 191,
   "metadata": {},
   "outputs": [],
   "source": [
    "X_test = prepipe.transform(X_test)"
   ]
  },
  {
   "cell_type": "code",
   "execution_count": 192,
   "metadata": {},
   "outputs": [],
   "source": [
    "outlier = ((X_train>3)|(X_train<-3)).any(axis=1)"
   ]
  },
  {
   "cell_type": "code",
   "execution_count": 193,
   "metadata": {},
   "outputs": [],
   "source": [
    "X_train = X_train[~outlier]\n",
    "y_train = y_train[~outlier]"
   ]
  },
  {
   "cell_type": "code",
   "execution_count": 200,
   "metadata": {},
   "outputs": [],
   "source": [
    "from sklearn.ensemble import RandomForestRegressor\n",
    "\n",
    "regr = RandomForestRegressor(n_estimators = 300, max_depth=5, random_state=0)\n",
    "\n",
    "regr.fit(X_train, y_train)\n",
    "y_pred = regr.predict(X_test)"
   ]
  },
  {
   "cell_type": "code",
   "execution_count": 201,
   "metadata": {},
   "outputs": [
    {
     "data": {
      "text/plain": [
       "array([0.71207116, 0.10557801, 0.66071346, ..., 0.66890587, 0.66890587,\n",
       "       0.41216146])"
      ]
     },
     "execution_count": 201,
     "metadata": {},
     "output_type": "execute_result"
    }
   ],
   "source": [
    "y_pred"
   ]
  },
  {
   "cell_type": "code",
   "execution_count": 202,
   "metadata": {},
   "outputs": [],
   "source": [
    "out = pd.DataFrame({'id':ind,'satisfaction_level':y_pred}).to_csv('submission4.csv',index=False)"
   ]
  },
  {
   "cell_type": "code",
   "execution_count": null,
   "metadata": {},
   "outputs": [],
   "source": []
  }
 ],
 "metadata": {
  "kernelspec": {
   "display_name": "Python 3",
   "language": "python",
   "name": "python3"
  },
  "language_info": {
   "codemirror_mode": {
    "name": "ipython",
    "version": 3
   },
   "file_extension": ".py",
   "mimetype": "text/x-python",
   "name": "python",
   "nbconvert_exporter": "python",
   "pygments_lexer": "ipython3",
   "version": "3.8.3"
  },
  "toc": {
   "base_numbering": 1,
   "nav_menu": {},
   "number_sections": true,
   "sideBar": true,
   "skip_h1_title": false,
   "title_cell": "Table of Contents",
   "title_sidebar": "Contents",
   "toc_cell": false,
   "toc_position": {},
   "toc_section_display": true,
   "toc_window_display": false
  }
 },
 "nbformat": 4,
 "nbformat_minor": 4
}
